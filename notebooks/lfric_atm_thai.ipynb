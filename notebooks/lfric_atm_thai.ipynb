{
 "cells": [
  {
   "cell_type": "code",
   "execution_count": 1,
   "id": "3cc67578",
   "metadata": {},
   "outputs": [],
   "source": [
    "import pyvista\n",
    "import lfricflux\n",
    "import numpy\n",
    "import mint\n",
    "import vtk"
   ]
  },
  {
   "cell_type": "code",
   "execution_count": 2,
   "id": "57e7b5a4",
   "metadata": {},
   "outputs": [],
   "source": [
    "inputFile = '../data/lfric_atm_thai_hab1_C48_MG_dt-1200p0_intel_64-bit_fast-debug__lfric_diag.nc'\n",
    "#inputFile = '../data/gungho/original/lfric_diag.nc'\n",
    "configFile = '../configs/lfric.cfg'\n",
    "# create a flux instance. The geometry is read form the netcdf Ugrid file\n",
    "lf = lfricflux.LFRicFlux(configFile=configFile, inputFile=inputFile)"
   ]
  },
  {
   "cell_type": "code",
   "execution_count": 3,
   "id": "37813f2d",
   "metadata": {},
   "outputs": [],
   "source": [
    "# create an empty vector field object\n",
    "x, y = lf.getEdgeLonLat()\n",
    "vf = lfricflux.VtkVectors(x, y, vector_field_name='flow', cartesian=True)"
   ]
  },
  {
   "cell_type": "code",
   "execution_count": 4,
   "id": "2d1f36ba",
   "metadata": {},
   "outputs": [],
   "source": [
    "# read the velocity data\n",
    "u = mint.NcFieldRead(fileName=inputFile, varName='u_in_w2h').data()\n",
    "v = mint.NcFieldRead(fileName=inputFile, varName='v_in_w2h').data()"
   ]
  },
  {
   "cell_type": "code",
   "execution_count": 12,
   "id": "431e73e4",
   "metadata": {},
   "outputs": [
    {
     "name": "stdout",
     "output_type": "stream",
     "text": [
      "1339.6191318725191\n",
      "596.7804462711223\n"
     ]
    }
   ],
   "source": [
    "# last dimension is number of edges\n",
    "print(numpy.fabs(u).sum())\n",
    "print(numpy.fabs(v).sum())"
   ]
  },
  {
   "cell_type": "code",
   "execution_count": 6,
   "id": "43baca27",
   "metadata": {},
   "outputs": [],
   "source": [
    "# compute rho on edges \n",
    "e2f = mint.NcFieldRead(fileName=inputFile, varName='Mesh2d_edge_face_links').data()\n",
    "rho_face = mint.NcFieldRead(fileName=inputFile, varName='rho').data()\n",
    "i0 = e2f[:, 0]\n",
    "i1 = e2f[:, 1]\n",
    "nfaces = rho_face.shape[-1]\n",
    "nedges = e2f.shape[0]\n",
    "rho_edge = numpy.zeros(list(rho_face.shape[:-1]) + [nedges,], numpy.float32)\n",
    "rho_edge += 0.5*(rho_face[..., e2f[:, 0]] + rho_face[..., e2f[:, 1]])\n",
    "rho_u = rho_edge * u\n",
    "rho_v = rho_edge * v"
   ]
  },
  {
   "cell_type": "code",
   "execution_count": 15,
   "id": "201a96e7",
   "metadata": {},
   "outputs": [],
   "source": [
    "# set the vector field\n",
    "vf.setField(u, v)\n",
    "# set time = 0, elev = 0\n",
    "vf.setSlice((0, 2))"
   ]
  },
  {
   "cell_type": "code",
   "execution_count": 16,
   "id": "8bdd7608",
   "metadata": {},
   "outputs": [],
   "source": [
    "rho_u_max = numpy.fabs(rho_u).max()"
   ]
  },
  {
   "cell_type": "code",
   "execution_count": 17,
   "id": "81aed4f4",
   "metadata": {},
   "outputs": [],
   "source": [
    "# vector field\n",
    "arrow = vtk.vtkArrowSource()\n",
    "glyphs = vtk.vtkGlyph3D()\n",
    "glyphs.SetScaleModeToScaleByVector()\n",
    "glyphs.SetColorModeToColorByVector()\n",
    "glyphs.SetScaleFactor(1./rho_u_max) # max value m/s -> 1 radius\n",
    "glyphs.SetRange(0., rho_u_max)\n",
    "glyphs.SetInputData(vf.getMesh())\n",
    "glyphs.SetSourceConnection(arrow.GetOutputPort())"
   ]
  },
  {
   "cell_type": "code",
   "execution_count": 18,
   "id": "ee5e903f",
   "metadata": {
    "scrolled": true
   },
   "outputs": [
    {
     "data": {
      "application/vnd.jupyter.widget-view+json": {
       "model_id": "acb64f7cab914127bb21b90fe8df7733",
       "version_major": 2,
       "version_minor": 0
      },
      "text/plain": [
       "Widget(value=\"<iframe src='http://localhost:57923/index.html?ui=P_0x187c611e0_1&reconnect=auto' style='width: …"
      ]
     },
     "metadata": {},
     "output_type": "display_data"
    }
   ],
   "source": [
    "pyvista.global_theme.cmap = 'jet'\n",
    "p = pyvista.Plotter(window_size=(900, 800))\n",
    "p.set_background((0.9, 0.9, 0.9))\n",
    "p.add_mesh(glyphs)\n",
    "p.show()"
   ]
  },
  {
   "cell_type": "code",
   "execution_count": 11,
   "id": "933dbd77",
   "metadata": {},
   "outputs": [
    {
     "data": {
      "application/vnd.jupyter.widget-view+json": {
       "model_id": "db0a57ff391e45458d30f5da04d101dd",
       "version_major": 2,
       "version_minor": 0
      },
      "text/plain": [
       "interactive(children=(IntSlider(value=0, description='k', max=37), Output()), _dom_classes=('widget-interact',…"
      ]
     },
     "metadata": {},
     "output_type": "display_data"
    },
    {
     "data": {
      "text/plain": [
       "<function __main__.callbackElev(k)>"
      ]
     },
     "execution_count": 11,
     "metadata": {},
     "output_type": "execute_result"
    }
   ],
   "source": [
    "from ipywidgets import interact\n",
    "import ipywidgets as widgets\n",
    "\n",
    "def callbackElev(k):\n",
    "    # copy the new values\n",
    "    vf.setSlice((0, k))\n",
    "    print(f'k = {k}')\n",
    "    vf.vectorField.Modified()\n",
    "\n",
    "interact(callbackElev, k=widgets.IntSlider(min=0, max=u.shape[1] - 1, step=1, value=0))"
   ]
  },
  {
   "cell_type": "code",
   "execution_count": null,
   "id": "fbf4380b",
   "metadata": {},
   "outputs": [],
   "source": []
  }
 ],
 "metadata": {
  "kernelspec": {
   "display_name": "Python 3 (ipykernel)",
   "language": "python",
   "name": "python3"
  },
  "language_info": {
   "codemirror_mode": {
    "name": "ipython",
    "version": 3
   },
   "file_extension": ".py",
   "mimetype": "text/x-python",
   "name": "python",
   "nbconvert_exporter": "python",
   "pygments_lexer": "ipython3",
   "version": "3.10.9"
  }
 },
 "nbformat": 4,
 "nbformat_minor": 5
}
