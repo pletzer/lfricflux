{
 "cells": [
  {
   "cell_type": "markdown",
   "id": "09e2c874",
   "metadata": {},
   "source": [
    "# Flux computation"
   ]
  },
  {
   "cell_type": "code",
   "execution_count": 1,
   "id": "3cc67578",
   "metadata": {},
   "outputs": [],
   "source": [
    "import pyvista\n",
    "import lfricflux\n",
    "import mint\n",
    "import vtk\n",
    "import numpy as np"
   ]
  },
  {
   "cell_type": "code",
   "execution_count": 2,
   "id": "57e7b5a4",
   "metadata": {},
   "outputs": [],
   "source": [
    "# the LFRic diagnostic file containing W2h data\n",
    "inputFile = '../data/gungho/original/lfric_diag.nc'\n",
    "# configuration file that lists the vraiables of interest\n",
    "configFile = '../configs/lfric.cfg'\n",
    "# create a flux instance. The geometry is read from the netcdf Ugrid file\n",
    "lf = lfricflux.LFRicFlux(configFile=configFile, inputFile=inputFile)"
   ]
  },
  {
   "cell_type": "code",
   "execution_count": 3,
   "id": "37813f2d",
   "metadata": {},
   "outputs": [],
   "source": [
    "# compute the flux across an irregular line.\n",
    "# The points are connected by straight lines in lon-lat space. To close the line, \n",
    "# let the last point be the same as the first. \n",
    "xy = [(-180., -60.), (180., 80.), (-70, 30), (-180., -60.)]\n",
    "fluxes = lf.computeFlow(xy)"
   ]
  },
  {
   "cell_type": "code",
   "execution_count": 4,
   "id": "2d1f36ba",
   "metadata": {},
   "outputs": [
    {
     "name": "stdout",
     "output_type": "stream",
     "text": [
      "[[  6.64218321  19.62590894  32.23001215  37.23704901  36.09820124\n",
      "   26.4747387    9.69540677 -11.55785689 -34.21141811 -54.75861981\n",
      "  -70.31887364 -79.14482736 -80.89079272 -76.40133271 -67.298658\n",
      "  -55.51252629 -42.89761034 -30.95737131 -20.64473117 -12.35556127\n",
      "   -6.13990427  -1.7689123    1.11717461   2.88675427   3.85605705\n",
      "    4.26831023   4.30525031   4.09567618   3.73682895   3.24891983]]\n"
     ]
    }
   ],
   "source": [
    "# the returned flux array has dimensions (num_time, num_elev)\n",
    "print(fluxes)"
   ]
  },
  {
   "cell_type": "code",
   "execution_count": 5,
   "id": "c39e413d",
   "metadata": {},
   "outputs": [],
   "source": [
    "# save the grid to file\n",
    "lf.grid.dump('grid.vtk')"
   ]
  },
  {
   "cell_type": "code",
   "execution_count": 6,
   "id": "5b69620e",
   "metadata": {},
   "outputs": [],
   "source": [
    "# instantiate the VTK grid object from file\n",
    "reader = vtk.vtkUnstructuredGridReader()\n",
    "reader.SetFileName('grid.vtk')\n",
    "reader.Update() # read"
   ]
  },
  {
   "cell_type": "code",
   "execution_count": 7,
   "id": "409f4287",
   "metadata": {},
   "outputs": [
    {
     "data": {
      "text/plain": [
       "<vtkmodules.vtkCommonDataModel.vtkUnstructuredGrid(0x7fa83f72a4d0) at 0x17d3250c0>"
      ]
     },
     "execution_count": 7,
     "metadata": {},
     "output_type": "execute_result"
    }
   ],
   "source": [
    "# build the VTK grid \n",
    "grid = reader.GetOutput()\n",
    "grid"
   ]
  },
  {
   "cell_type": "code",
   "execution_count": 11,
   "id": "b4393c06",
   "metadata": {},
   "outputs": [
    {
     "data": {
      "application/vnd.jupyter.widget-view+json": {
       "model_id": "6c9b049dda9247b7b0ef270e3dcb474b",
       "version_major": 2,
       "version_minor": 0
      },
      "text/plain": [
       "Widget(value=\"<iframe src='http://localhost:60404/index.html?ui=P_0x188d9c940_2&reconnect=auto' style='width: …"
      ]
     },
     "metadata": {},
     "output_type": "display_data"
    }
   ],
   "source": [
    "# plot\n",
    "lf.buildFluxSurface(extrusion=10, cartesian=False, radius=1.0)\n",
    "pyvista.global_theme.cmap = 'jet'\n",
    "p = pyvista.Plotter(window_size=(900, 800))\n",
    "p.set_background((0.9, 0.9, 0.92))\n",
    "p.add_mesh(lf.targetGrid, scalars='flux', clim=(fluxes.min(), fluxes.max()))\n",
    "p.add_mesh(grid, show_edges=True)\n",
    "p.show()"
   ]
  },
  {
   "cell_type": "code",
   "execution_count": 9,
   "id": "933dbd77",
   "metadata": {},
   "outputs": [
    {
     "data": {
      "application/vnd.jupyter.widget-view+json": {
       "model_id": "d538a6457c5547688e9fda333108b348",
       "version_major": 2,
       "version_minor": 0
      },
      "text/plain": [
       "interactive(children=(IntSlider(value=0, description='k', max=30), Output()), _dom_classes=('widget-interact',…"
      ]
     },
     "metadata": {},
     "output_type": "display_data"
    },
    {
     "data": {
      "text/plain": [
       "<function __main__.callbackElev(k)>"
      ]
     },
     "execution_count": 9,
     "metadata": {},
     "output_type": "execute_result"
    }
   ],
   "source": [
    "from ipywidgets import interact\n",
    "import ipywidgets as widgets\n",
    "\n",
    "def callbackElev(k):\n",
    "    # copy the new values\n",
    "    lf.setSlice((0, k))\n",
    "    lf.targetFlux.Modified()\n",
    "\n",
    "nelevs = lf.getExtraDims()[-1]\n",
    "interact(callbackElev, k=widgets.IntSlider(min=0, max=nelevs, step=1, value=0))"
   ]
  },
  {
   "cell_type": "code",
   "execution_count": null,
   "id": "300b3d62",
   "metadata": {},
   "outputs": [],
   "source": []
  }
 ],
 "metadata": {
  "kernelspec": {
   "display_name": "Python 3 (ipykernel)",
   "language": "python",
   "name": "python3"
  },
  "language_info": {
   "codemirror_mode": {
    "name": "ipython",
    "version": 3
   },
   "file_extension": ".py",
   "mimetype": "text/x-python",
   "name": "python",
   "nbconvert_exporter": "python",
   "pygments_lexer": "ipython3",
   "version": "3.10.9"
  }
 },
 "nbformat": 4,
 "nbformat_minor": 5
}
