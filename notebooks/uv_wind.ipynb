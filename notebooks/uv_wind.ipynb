{
 "cells": [
  {
   "cell_type": "code",
   "execution_count": 1,
   "id": "3cc67578",
   "metadata": {},
   "outputs": [],
   "source": [
    "import pyvista\n",
    "import lfricflux\n",
    "import numpy\n",
    "import mint"
   ]
  },
  {
   "cell_type": "code",
   "execution_count": 2,
   "id": "57e7b5a4",
   "metadata": {},
   "outputs": [],
   "source": [
    "inputFile = '../data/gungho/original/lfric_diag.nc'\n",
    "configFile = '../configs/lfric.cfg'\n",
    "# create a flux instance. The geometry is read form the netcdf Ugrid file\n",
    "lf = lfricflux.LFRicFlux(configFile=configFile, inputFile=inputFile)"
   ]
  },
  {
   "cell_type": "code",
   "execution_count": 3,
   "id": "37813f2d",
   "metadata": {},
   "outputs": [],
   "source": [
    "# create an empty vector field object\n",
    "x, y = lf.getEdgeLonLat()\n",
    "vf = lfricflux.VtkVectors(x, y, vector_field_name='velocity', cartesian=True)"
   ]
  },
  {
   "cell_type": "code",
   "execution_count": 4,
   "id": "2d1f36ba",
   "metadata": {},
   "outputs": [],
   "source": [
    "# read the velocity data\n",
    "u = mint.NcFieldRead(fileName=inputFile, varName='u_in_w2h').data()\n",
    "v = mint.NcFieldRead(fileName=inputFile, varName='v_in_w2h').data()"
   ]
  },
  {
   "cell_type": "code",
   "execution_count": 5,
   "id": "431e73e4",
   "metadata": {},
   "outputs": [
    {
     "data": {
      "text/plain": [
       "(1, 30, 3072)"
      ]
     },
     "execution_count": 5,
     "metadata": {},
     "output_type": "execute_result"
    }
   ],
   "source": [
    "# last dimension is number of edges\n",
    "u.shape"
   ]
  },
  {
   "cell_type": "code",
   "execution_count": 32,
   "id": "201a96e7",
   "metadata": {},
   "outputs": [],
   "source": [
    "# set the vector field\n",
    "vf.setField(u, v)\n",
    "# set time = 0, elev = 0\n",
    "vf.setSlice((0, 29))"
   ]
  },
  {
   "cell_type": "code",
   "execution_count": 33,
   "id": "a64b97cd",
   "metadata": {},
   "outputs": [],
   "source": [
    "xyz = vf.getPointArray()\n",
    "npoints = xyz.shape[0]"
   ]
  },
  {
   "cell_type": "code",
   "execution_count": 34,
   "id": "8038b0b3",
   "metadata": {},
   "outputs": [
    {
     "data": {
      "text/plain": [
       "['vectors', 'mag']"
      ]
     },
     "execution_count": 34,
     "metadata": {},
     "output_type": "execute_result"
    }
   ],
   "source": [
    "# create a pyvista mesh object\n",
    "pvmesh = pyvista.UnstructuredGrid(vf.getMesh())\n",
    "pvmesh.point_data.set_vectors(vectors=vf.vxyz, name='vectors')\n",
    "pvmesh.point_data.set_scalars(numpy.sqrt((vf.vxyz**2).sum(axis=1)), name='mag')\n",
    "pvmesh.point_data.keys()"
   ]
  },
  {
   "cell_type": "code",
   "execution_count": 53,
   "id": "27d61172",
   "metadata": {},
   "outputs": [
    {
     "name": "stdout",
     "output_type": "stream",
     "text": [
      "(3072, 3)\n"
     ]
    }
   ],
   "source": [
    "print(pvmesh.point_data['vectors'].shape)"
   ]
  },
  {
   "cell_type": "code",
   "execution_count": 35,
   "id": "b680af15",
   "metadata": {},
   "outputs": [],
   "source": [
    "glyphs = pvmesh.glyph(orient=\"vectors\", scale=\"mag\", factor=1.0, geom=pyvista.Arrow())"
   ]
  },
  {
   "cell_type": "code",
   "execution_count": 36,
   "id": "55f02c1c",
   "metadata": {
    "scrolled": true
   },
   "outputs": [
    {
     "data": {
      "application/vnd.jupyter.widget-view+json": {
       "model_id": "1d261727adc84046813161989fd4b0b5",
       "version_major": 2,
       "version_minor": 0
      },
      "text/plain": [
       "Widget(value=\"<iframe src='http://localhost:53622/index.html?ui=P_0x184acb970_5&reconnect=auto' style='width: …"
      ]
     },
     "metadata": {},
     "output_type": "display_data"
    }
   ],
   "source": [
    "p = pyvista.Plotter()\n",
    "p.add_mesh(pyvista.Sphere(radius=0.95), color=\"grey\", ambient=0.6, opacity=1.0, show_edges=False)\n",
    "p.add_mesh(glyphs)\n",
    "p.show(jupyter_backend='trame')"
   ]
  },
  {
   "cell_type": "code",
   "execution_count": 52,
   "id": "51129b80",
   "metadata": {},
   "outputs": [
    {
     "data": {
      "text/plain": [
       "(310272, 3)"
      ]
     },
     "execution_count": 52,
     "metadata": {},
     "output_type": "execute_result"
    }
   ],
   "source": [
    "vf.setSlice((0, 29))\n",
    "vf.vxyz.shape\n",
    "glyphs.point_data['GlyphVector'].shape\n",
    "# glyphs.point_data['GlyphVector'][:] = vf.vxyz\n",
    "# print(glyphs.point_data['GlyphVector'].sum())\n",
    "# vf.setSlice((0, 0))\n",
    "# glyphs.point_data['GlyphVector'][:] = vf.vxyz\n",
    "# print(glyphs.point_data['GlyphVector'].sum())"
   ]
  },
  {
   "cell_type": "code",
   "execution_count": 46,
   "id": "34788611",
   "metadata": {},
   "outputs": [
    {
     "ename": "ValueError",
     "evalue": "could not broadcast input array from shape (3072,3) into shape (310272,3)",
     "output_type": "error",
     "traceback": [
      "\u001b[0;31m---------------------------------------------------------------------------\u001b[0m",
      "\u001b[0;31mValueError\u001b[0m                                Traceback (most recent call last)",
      "Cell \u001b[0;32mIn[46], line 5\u001b[0m\n\u001b[1;32m      3\u001b[0m p2\u001b[38;5;241m.\u001b[39madd_mesh(glyphs)\n\u001b[1;32m      4\u001b[0m vf\u001b[38;5;241m.\u001b[39msetSlice((\u001b[38;5;241m0\u001b[39m, \u001b[38;5;241m0\u001b[39m))\n\u001b[0;32m----> 5\u001b[0m \u001b[43mglyphs\u001b[49m\u001b[38;5;241;43m.\u001b[39;49m\u001b[43mpoint_data\u001b[49m\u001b[43m[\u001b[49m\u001b[38;5;124;43m'\u001b[39;49m\u001b[38;5;124;43mGlyphVector\u001b[39;49m\u001b[38;5;124;43m'\u001b[39;49m\u001b[43m]\u001b[49m\u001b[43m[\u001b[49m\u001b[43m:\u001b[49m\u001b[43m]\u001b[49m \u001b[38;5;241m=\u001b[39m vf\u001b[38;5;241m.\u001b[39mvxyz\n\u001b[1;32m      6\u001b[0m p2\u001b[38;5;241m.\u001b[39mshow(jupyter_backend\u001b[38;5;241m=\u001b[39m\u001b[38;5;124m'\u001b[39m\u001b[38;5;124mtrame\u001b[39m\u001b[38;5;124m'\u001b[39m)\n",
      "File \u001b[0;32m~/miniconda3/envs/lfricflux/lib/python3.10/site-packages/pyvista/core/pyvista_ndarray.py:97\u001b[0m, in \u001b[0;36mpyvista_ndarray.__setitem__\u001b[0;34m(self, key, value)\u001b[0m\n\u001b[1;32m     90\u001b[0m \u001b[38;5;28;01mdef\u001b[39;00m \u001b[38;5;21m__setitem__\u001b[39m(\u001b[38;5;28mself\u001b[39m, key: Union[\u001b[38;5;28mint\u001b[39m, np\u001b[38;5;241m.\u001b[39mndarray], value):\n\u001b[1;32m     91\u001b[0m \u001b[38;5;250m    \u001b[39m\u001b[38;5;124;03m\"\"\"Implement [] set operator.\u001b[39;00m\n\u001b[1;32m     92\u001b[0m \n\u001b[1;32m     93\u001b[0m \u001b[38;5;124;03m    When the array is changed it triggers \"Modified()\" which updates\u001b[39;00m\n\u001b[1;32m     94\u001b[0m \u001b[38;5;124;03m    all upstream objects, including any render windows holding the\u001b[39;00m\n\u001b[1;32m     95\u001b[0m \u001b[38;5;124;03m    object.\u001b[39;00m\n\u001b[1;32m     96\u001b[0m \u001b[38;5;124;03m    \"\"\"\u001b[39;00m\n\u001b[0;32m---> 97\u001b[0m     \u001b[38;5;28;43msuper\u001b[39;49m\u001b[43m(\u001b[49m\u001b[43m)\u001b[49m\u001b[38;5;241;43m.\u001b[39;49m\u001b[38;5;21;43m__setitem__\u001b[39;49m\u001b[43m(\u001b[49m\u001b[43mkey\u001b[49m\u001b[43m,\u001b[49m\u001b[43m \u001b[49m\u001b[43mvalue\u001b[49m\u001b[43m)\u001b[49m\n\u001b[1;32m     98\u001b[0m     \u001b[38;5;28;01mif\u001b[39;00m \u001b[38;5;28mself\u001b[39m\u001b[38;5;241m.\u001b[39mVTKObject \u001b[38;5;129;01mis\u001b[39;00m \u001b[38;5;129;01mnot\u001b[39;00m \u001b[38;5;28;01mNone\u001b[39;00m:\n\u001b[1;32m     99\u001b[0m         \u001b[38;5;28mself\u001b[39m\u001b[38;5;241m.\u001b[39mVTKObject\u001b[38;5;241m.\u001b[39mModified()\n",
      "\u001b[0;31mValueError\u001b[0m: could not broadcast input array from shape (3072,3) into shape (310272,3)"
     ]
    }
   ],
   "source": [
    "p2 = pyvista.Plotter()\n",
    "p2.add_mesh(pyvista.Sphere(radius=0.95), color=\"grey\", ambient=0.6, opacity=1.0, show_edges=False)\n",
    "p2.add_mesh(glyphs)\n",
    "vf.setSlice((0, 0))\n",
    "glyphs.point_data['GlyphVector'][:] = vf.vxyz\n",
    "p2.show(jupyter_backend='trame')"
   ]
  },
  {
   "cell_type": "code",
   "execution_count": 39,
   "id": "6a9c43d8",
   "metadata": {},
   "outputs": [],
   "source": [
    "vals = glyphs.GetPointData().GetAbstractArray('vectors')"
   ]
  },
  {
   "cell_type": "code",
   "execution_count": 40,
   "id": "b7863577",
   "metadata": {},
   "outputs": [
    {
     "name": "stdout",
     "output_type": "stream",
     "text": [
      "None\n"
     ]
    }
   ],
   "source": [
    "print(vals)"
   ]
  },
  {
   "cell_type": "code",
   "execution_count": null,
   "id": "58aa2a3b",
   "metadata": {},
   "outputs": [],
   "source": []
  }
 ],
 "metadata": {
  "kernelspec": {
   "display_name": "Python 3 (ipykernel)",
   "language": "python",
   "name": "python3"
  },
  "language_info": {
   "codemirror_mode": {
    "name": "ipython",
    "version": 3
   },
   "file_extension": ".py",
   "mimetype": "text/x-python",
   "name": "python",
   "nbconvert_exporter": "python",
   "pygments_lexer": "ipython3",
   "version": "3.10.9"
  }
 },
 "nbformat": 4,
 "nbformat_minor": 5
}
