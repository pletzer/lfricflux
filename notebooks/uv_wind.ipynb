{
 "cells": [
  {
   "cell_type": "code",
   "execution_count": 1,
   "id": "3cc67578",
   "metadata": {},
   "outputs": [],
   "source": [
    "import pyvista\n",
    "import lfricflux\n",
    "import numpy\n",
    "import mint\n",
    "import vtk"
   ]
  },
  {
   "cell_type": "code",
   "execution_count": 2,
   "id": "57e7b5a4",
   "metadata": {},
   "outputs": [],
   "source": [
    "inputFile = '../data/gungho/original/lfric_diag.nc'\n",
    "configFile = '../configs/lfric.cfg'\n",
    "# create a flux instance. The geometry is read form the netcdf Ugrid file\n",
    "lf = lfricflux.LFRicFlux(configFile=configFile, inputFile=inputFile)"
   ]
  },
  {
   "cell_type": "code",
   "execution_count": 3,
   "id": "37813f2d",
   "metadata": {},
   "outputs": [],
   "source": [
    "# create an empty vector field object\n",
    "x, y = lf.getEdgeLonLat()\n",
    "vf = lfricflux.VtkVectors(x, y, vector_field_name='velocity', cartesian=True)"
   ]
  },
  {
   "cell_type": "code",
   "execution_count": 4,
   "id": "2d1f36ba",
   "metadata": {},
   "outputs": [],
   "source": [
    "# read the velocity data\n",
    "u = mint.NcFieldRead(fileName=inputFile, varName='u_in_w2h').data()\n",
    "v = mint.NcFieldRead(fileName=inputFile, varName='v_in_w2h').data()"
   ]
  },
  {
   "cell_type": "code",
   "execution_count": 5,
   "id": "431e73e4",
   "metadata": {},
   "outputs": [
    {
     "data": {
      "text/plain": [
       "(1, 30, 3072)"
      ]
     },
     "execution_count": 5,
     "metadata": {},
     "output_type": "execute_result"
    }
   ],
   "source": [
    "# last dimension is number of edges\n",
    "u.shape"
   ]
  },
  {
   "cell_type": "code",
   "execution_count": 6,
   "id": "201a96e7",
   "metadata": {},
   "outputs": [],
   "source": [
    "# set the vector field\n",
    "vf.setField(u, v)\n",
    "# set time = 0, elev = 0\n",
    "vf.setSlice((0, 0))"
   ]
  },
  {
   "cell_type": "code",
   "execution_count": 12,
   "id": "87b4f222",
   "metadata": {},
   "outputs": [],
   "source": [
    "# vector field\n",
    "arrow = vtk.vtkArrowSource()\n",
    "glyphs = vtk.vtkGlyph3D()\n",
    "glyphs.SetScaleModeToScaleByVector()\n",
    "glyphs.SetColorModeToColorByVector()\n",
    "glyphs.SetScaleFactor(1./50.) # 50 m/s -> 1 radius\n",
    "glyphs.SetRange(0., 50.)\n",
    "glyphs.SetInputData(vf.getMesh())\n",
    "glyphs.SetSourceConnection(arrow.GetOutputPort())"
   ]
  },
  {
   "cell_type": "code",
   "execution_count": 14,
   "id": "7a3fdc9e",
   "metadata": {
    "scrolled": true
   },
   "outputs": [
    {
     "data": {
      "application/vnd.jupyter.widget-view+json": {
       "model_id": "af6de24efbe545d49d6283301a6d5ea2",
       "version_major": 2,
       "version_minor": 0
      },
      "text/plain": [
       "Widget(value=\"<iframe src='http://localhost:64637/index.html?ui=P_0x181374430_3&reconnect=auto' style='width: …"
      ]
     },
     "metadata": {},
     "output_type": "display_data"
    }
   ],
   "source": [
    "pyvista.global_theme.cmap = 'jet'\n",
    "p = pyvista.Plotter(window_size=(900, 800))\n",
    "p.add_mesh(glyphs)\n",
    "p.show()"
   ]
  },
  {
   "cell_type": "code",
   "execution_count": 15,
   "id": "9aea7c89",
   "metadata": {},
   "outputs": [
    {
     "data": {
      "application/vnd.jupyter.widget-view+json": {
       "model_id": "73890258efa04494b213c70a27d3f808",
       "version_major": 2,
       "version_minor": 0
      },
      "text/plain": [
       "interactive(children=(IntSlider(value=0, description='k', max=29), Output()), _dom_classes=('widget-interact',…"
      ]
     },
     "metadata": {},
     "output_type": "display_data"
    },
    {
     "data": {
      "text/plain": [
       "<function __main__.callbackElev(k)>"
      ]
     },
     "execution_count": 15,
     "metadata": {},
     "output_type": "execute_result"
    }
   ],
   "source": [
    "from ipywidgets import interact\n",
    "import ipywidgets as widgets\n",
    "\n",
    "def callbackElev(k):\n",
    "    # copy the new values\n",
    "    vf.setSlice((0, k))\n",
    "    print(f'k = {k}')\n",
    "    vf.vectorField.Modified()\n",
    "\n",
    "interact(callbackElev, k=widgets.IntSlider(min=0, max=u.shape[1] - 1, step=1, value=0))"
   ]
  },
  {
   "cell_type": "code",
   "execution_count": null,
   "id": "a3a8c456",
   "metadata": {},
   "outputs": [],
   "source": []
  }
 ],
 "metadata": {
  "kernelspec": {
   "display_name": "Python 3 (ipykernel)",
   "language": "python",
   "name": "python3"
  },
  "language_info": {
   "codemirror_mode": {
    "name": "ipython",
    "version": 3
   },
   "file_extension": ".py",
   "mimetype": "text/x-python",
   "name": "python",
   "nbconvert_exporter": "python",
   "pygments_lexer": "ipython3",
   "version": "3.10.9"
  }
 },
 "nbformat": 4,
 "nbformat_minor": 5
}
