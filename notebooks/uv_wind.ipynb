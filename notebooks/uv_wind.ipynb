{
 "cells": [
  {
   "cell_type": "code",
   "execution_count": 1,
   "id": "3cc67578",
   "metadata": {},
   "outputs": [],
   "source": [
    "import pyvista\n",
    "import lfricflux\n",
    "import numpy\n",
    "import mint"
   ]
  },
  {
   "cell_type": "code",
   "execution_count": 6,
   "id": "57e7b5a4",
   "metadata": {},
   "outputs": [],
   "source": [
    "inputFile = '../data/gungho/original/lfric_diag.nc'\n",
    "# create a flux instance. The geometry is read form the netcdf Ugrid file\n",
    "lf = lfricflux.LFRicFlux(configFile='lfric.cfg', inputFile=inputFile)"
   ]
  },
  {
   "cell_type": "code",
   "execution_count": 7,
   "id": "37813f2d",
   "metadata": {},
   "outputs": [],
   "source": [
    "# create an empty vector field object\n",
    "x, y = lf.getEdgeLonLat()\n",
    "vf = lfricflux.VtkVectors(x, y, vector_field_name='vectors', cartesian=True)"
   ]
  },
  {
   "cell_type": "code",
   "execution_count": 8,
   "id": "2d1f36ba",
   "metadata": {},
   "outputs": [],
   "source": [
    "# read the velocity data\n",
    "u = mint.NcFieldRead(fileName=inputFile, varName='u_in_w2h').data()\n",
    "v = mint.NcFieldRead(fileName=inputFile, varName='v_in_w2h').data()"
   ]
  },
  {
   "cell_type": "code",
   "execution_count": 9,
   "id": "431e73e4",
   "metadata": {},
   "outputs": [
    {
     "data": {
      "text/plain": [
       "(1, 30, 3072)"
      ]
     },
     "execution_count": 9,
     "metadata": {},
     "output_type": "execute_result"
    }
   ],
   "source": [
    "# last dimension is number of edges\n",
    "u.shape"
   ]
  },
  {
   "cell_type": "code",
   "execution_count": 10,
   "id": "201a96e7",
   "metadata": {},
   "outputs": [],
   "source": [
    "# set the vector field from the time=0, elev=0 data\n",
    "vf.setField(u, v, inds=(0,0))"
   ]
  },
  {
   "cell_type": "code",
   "execution_count": 11,
   "id": "a64b97cd",
   "metadata": {},
   "outputs": [],
   "source": [
    "xyz = vf.getPointArray()\n",
    "npoints = xyz.shape[0]"
   ]
  },
  {
   "cell_type": "code",
   "execution_count": 12,
   "id": "8038b0b3",
   "metadata": {},
   "outputs": [
    {
     "data": {
      "text/plain": [
       "['vectors', 'mag']"
      ]
     },
     "execution_count": 12,
     "metadata": {},
     "output_type": "execute_result"
    }
   ],
   "source": [
    "# create a pyvista mesh object\n",
    "pvmesh = pyvista.UnstructuredGrid(vf.getMesh())\n",
    "vecs = vf.getFieldArray()\n",
    "pvmesh.point_data['mag'] = numpy.sqrt(vecs[:,0]**2 + vecs[:,1]**2 + vecs[:,2]**2)\n",
    "pvmesh.point_data.keys()"
   ]
  },
  {
   "cell_type": "code",
   "execution_count": 15,
   "id": "b680af15",
   "metadata": {},
   "outputs": [],
   "source": [
    "glyphs = pvmesh.glyph(orient=\"vectors\", scale=\"mag\", factor=1.0, geom=pyvista.Arrow())"
   ]
  },
  {
   "cell_type": "code",
   "execution_count": 16,
   "id": "55f02c1c",
   "metadata": {},
   "outputs": [
    {
     "data": {
      "application/vnd.jupyter.widget-view+json": {
       "model_id": "b60d426be1b54c128f57fbc7cff9e4c4",
       "version_major": 2,
       "version_minor": 0
      },
      "text/plain": [
       "Widget(value=\"<iframe src='http://localhost:51607/index.html?ui=P_0x17d000fd0_1&reconnect=auto' style='width: …"
      ]
     },
     "metadata": {},
     "output_type": "display_data"
    }
   ],
   "source": [
    "p = pyvista.Plotter()\n",
    "p.add_mesh(pyvista.Sphere(radius=0.95), color=\"grey\", ambient=0.6, opacity=1.0, show_edges=False)\n",
    "p.add_mesh(glyphs)\n",
    "p.show(jupyter_backend='trame') #'panel')"
   ]
  },
  {
   "cell_type": "code",
   "execution_count": null,
   "id": "de735ff5",
   "metadata": {},
   "outputs": [],
   "source": []
  }
 ],
 "metadata": {
  "kernelspec": {
   "display_name": "Python 3 (ipykernel)",
   "language": "python",
   "name": "python3"
  },
  "language_info": {
   "codemirror_mode": {
    "name": "ipython",
    "version": 3
   },
   "file_extension": ".py",
   "mimetype": "text/x-python",
   "name": "python",
   "nbconvert_exporter": "python",
   "pygments_lexer": "ipython3",
   "version": "3.10.9"
  }
 },
 "nbformat": 4,
 "nbformat_minor": 5
}
