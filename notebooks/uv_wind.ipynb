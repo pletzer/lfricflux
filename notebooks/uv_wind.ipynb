{
 "cells": [
  {
   "cell_type": "markdown",
   "id": "bc17fad0",
   "metadata": {},
   "source": [
    "# Visualisation of an LFRic vector field"
   ]
  },
  {
   "cell_type": "code",
   "execution_count": 1,
   "id": "3cc67578",
   "metadata": {},
   "outputs": [],
   "source": [
    "import pyvista\n",
    "import lfricflux\n",
    "import mint\n",
    "import vtk\n",
    "import numpy as np"
   ]
  },
  {
   "cell_type": "code",
   "execution_count": 2,
   "id": "57e7b5a4",
   "metadata": {},
   "outputs": [],
   "source": [
    "# the LFRic diagnostic file containing W2h data\n",
    "inputFile = '../data/gungho/original/lfric_diag.nc'\n",
    "# configuration file that lists the vraiables of interest\n",
    "configFile = '../configs/lfric.cfg'\n",
    "# create a flux instance. The geometry is read form the netcdf Ugrid file\n",
    "lf = lfricflux.LFRicFlux(configFile=configFile, inputFile=inputFile)"
   ]
  },
  {
   "cell_type": "code",
   "execution_count": 3,
   "id": "37813f2d",
   "metadata": {},
   "outputs": [],
   "source": [
    "# mid-edge coordinates\n",
    "x, y = lf.getEdgeLonLat()\n",
    "# define an empty vector field located on edges\n",
    "vf = lfricflux.VtkVectors(x, y, vector_field_name='velocity', cartesian=True)"
   ]
  },
  {
   "cell_type": "code",
   "execution_count": 4,
   "id": "2d1f36ba",
   "metadata": {},
   "outputs": [],
   "source": [
    "# read the velocity data\n",
    "u = mint.NcFieldRead(fileName=inputFile, varName='u_in_w2h').data()\n",
    "v = mint.NcFieldRead(fileName=inputFile, varName='v_in_w2h').data()"
   ]
  },
  {
   "cell_type": "code",
   "execution_count": 5,
   "id": "431e73e4",
   "metadata": {},
   "outputs": [
    {
     "data": {
      "text/plain": [
       "(1, 30, 3072)"
      ]
     },
     "execution_count": 5,
     "metadata": {},
     "output_type": "execute_result"
    }
   ],
   "source": [
    "# we'll assume that the last dimension is the number of edges\n",
    "u.shape"
   ]
  },
  {
   "cell_type": "code",
   "execution_count": 6,
   "id": "201a96e7",
   "metadata": {},
   "outputs": [],
   "source": [
    "# set the vector field\n",
    "vf.setField(u, v)\n",
    "# set time, elev\n",
    "vf.setSlice((0, 0))"
   ]
  },
  {
   "cell_type": "code",
   "execution_count": 7,
   "id": "ad53d7aa",
   "metadata": {},
   "outputs": [],
   "source": [
    "def getUVMax(vf):\n",
    "    vxyz = vf.getFieldArray()\n",
    "    return np.amax(np.sqrt(np.sum(vxyz**2, axis=1)))"
   ]
  },
  {
   "cell_type": "code",
   "execution_count": 9,
   "id": "44fb06a5",
   "metadata": {},
   "outputs": [],
   "source": [
    "# create a vector field visualisation using VTK. Pyvista can also do it but I found that it is not possible \n",
    "# to create a vector visulisation in pyvista without copying the data. Fortunately, pyvista's rendering \n",
    "# also works with VTK pipelines.\n",
    "\n",
    "# want to attach arrows to each point\n",
    "arrow = vtk.vtkArrowSource()\n",
    "\n",
    "glyphs = vtk.vtkGlyph3D()\n",
    "glyphs.SetScaleModeToScaleByVector()\n",
    "glyphs.SetColorModeToColorByVector()\n",
    "\n",
    "# scale the glyphs\n",
    "uvMax = getUVMax(vf)\n",
    "scale = 0.5/ uvMax\n",
    "glyphs.SetScaleFactor(scale)\n",
    "glyphs.SetRange(0., uvMax)\n",
    "\n",
    "# connect. VTK works with meshes, which can have fields attached to them. In this case, \n",
    "# there is a single field - no need to tell VTK what to plot. \n",
    "glyphs.SetInputData(vf.getMesh())\n",
    "glyphs.SetSourceConnection(arrow.GetOutputPort())"
   ]
  },
  {
   "cell_type": "code",
   "execution_count": 12,
   "id": "ee5e903f",
   "metadata": {
    "scrolled": true
   },
   "outputs": [
    {
     "data": {
      "application/vnd.jupyter.widget-view+json": {
       "model_id": "5142c6e30f6f48689866f2317bece3e0",
       "version_major": 2,
       "version_minor": 0
      },
      "text/plain": [
       "Widget(value=\"<iframe src='http://localhost:59534/index.html?ui=P_0x17dc23430_1&reconnect=auto' style='width: …"
      ]
     },
     "metadata": {},
     "output_type": "display_data"
    }
   ],
   "source": [
    "# add the visualisation to the scene\n",
    "pyvista.global_theme.cmap = 'jet'\n",
    "p = pyvista.Plotter(window_size=(900, 800))\n",
    "p.set_background((0.9, 0.9, 0.92))\n",
    "p.add_mesh(glyphs)\n",
    "p.show()"
   ]
  },
  {
   "cell_type": "code",
   "execution_count": 11,
   "id": "933dbd77",
   "metadata": {},
   "outputs": [
    {
     "data": {
      "application/vnd.jupyter.widget-view+json": {
       "model_id": "f9eb5615825e4481b2988f88214106c8",
       "version_major": 2,
       "version_minor": 0
      },
      "text/plain": [
       "interactive(children=(IntSlider(value=0, description='k', max=29), Output()), _dom_classes=('widget-interact',…"
      ]
     },
     "metadata": {},
     "output_type": "display_data"
    },
    {
     "data": {
      "text/plain": [
       "<function __main__.callbackElev(k)>"
      ]
     },
     "execution_count": 11,
     "metadata": {},
     "output_type": "execute_result"
    }
   ],
   "source": [
    "from ipywidgets import interact\n",
    "import ipywidgets as widgets\n",
    "\n",
    "def callbackElev(k):\n",
    "    # copy the new values\n",
    "    vf.setSlice((0, k))\n",
    "    # recompute the max u, v\n",
    "    uvMax = getUVMax(vf)\n",
    "    scale = 0.5/ uvMax\n",
    "    glyphs.SetScaleFactor(scale)\n",
    "    print(f'elev k = {k}')\n",
    "    vf.vectorField.Modified()\n",
    "\n",
    "interact(callbackElev, k=widgets.IntSlider(min=0, max=u.shape[1] - 1, step=1, value=0))"
   ]
  },
  {
   "cell_type": "code",
   "execution_count": null,
   "id": "fbf4380b",
   "metadata": {},
   "outputs": [],
   "source": []
  },
  {
   "cell_type": "code",
   "execution_count": null,
   "id": "49132643",
   "metadata": {},
   "outputs": [],
   "source": []
  }
 ],
 "metadata": {
  "kernelspec": {
   "display_name": "Python 3 (ipykernel)",
   "language": "python",
   "name": "python3"
  },
  "language_info": {
   "codemirror_mode": {
    "name": "ipython",
    "version": 3
   },
   "file_extension": ".py",
   "mimetype": "text/x-python",
   "name": "python",
   "nbconvert_exporter": "python",
   "pygments_lexer": "ipython3",
   "version": "3.10.9"
  }
 },
 "nbformat": 4,
 "nbformat_minor": 5
}
