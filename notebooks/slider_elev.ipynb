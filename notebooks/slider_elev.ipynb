{
 "cells": [
  {
   "cell_type": "code",
   "execution_count": 1,
   "id": "955afbe5",
   "metadata": {},
   "outputs": [
    {
     "data": {
      "text/plain": [
       "0"
      ]
     },
     "execution_count": 1,
     "metadata": {},
     "output_type": "execute_result"
    }
   ],
   "source": [
    "import vtk\n",
    "import numpy\n",
    "import pyvista\n",
    "\n",
    "# create a mesh of one triangle\n",
    "points = vtk.vtkPoints()\n",
    "points.InsertNextPoint(0., 0., 0.)\n",
    "points.InsertNextPoint(1., 0., 0.)\n",
    "points.InsertNextPoint(1.,1.,0.)\n",
    "\n",
    "mesh = vtk.vtkUnstructuredGrid()\n",
    "mesh.SetPoints(points)\n",
    "\n",
    "# provide connectivity\n",
    "mesh.Allocate(1,1)\n",
    "ptIds = vtk.vtkIdList()\n",
    "ptIds.SetNumberOfIds(3)\n",
    "for i in range(3):\n",
    "    ptIds.SetId(i, i)\n",
    "# one cell\n",
    "mesh.InsertNextCell(vtk.VTK_TRIANGLE, ptIds)"
   ]
  },
  {
   "cell_type": "code",
   "execution_count": 4,
   "id": "026c2563",
   "metadata": {},
   "outputs": [
    {
     "data": {
      "application/vnd.jupyter.widget-view+json": {
       "model_id": "59e791b09eed4a2c9682a0b7e05c4bcf",
       "version_major": 2,
       "version_minor": 0
      },
      "text/plain": [
       "Widget(value=\"<iframe src='http://localhost:54428/index.html?ui=P_0x10a9d8f70_0&reconnect=auto' style='width: …"
      ]
     },
     "metadata": {},
     "output_type": "display_data"
    }
   ],
   "source": [
    "p = pyvista.Plotter()\n",
    "p.add_mesh(mesh)\n",
    "p.show()"
   ]
  },
  {
   "cell_type": "code",
   "execution_count": 5,
   "id": "3987b61a",
   "metadata": {},
   "outputs": [
    {
     "data": {
      "text/plain": [
       "0"
      ]
     },
     "execution_count": 5,
     "metadata": {},
     "output_type": "execute_result"
    }
   ],
   "source": [
    "# create sets of vector data\n",
    "vecs = numpy.empty((2, 3, 3), numpy.float32)\n",
    "vecs[0,...] = [(1,0,0), (0, 1, 0), (-1, -1, 0)]\n",
    "vecs[1,...] = [(-2,0,0), (0, -1, 0), (1, 1, 0)]\n",
    "\n",
    "# have a vector point to any of the slices above\n",
    "current_vecs = numpy.empty((3, 3), numpy.float32)\n",
    "# copy\n",
    "current_vecs[:] = vecs[0,...]\n",
    "\n",
    "vtk_vectors = vtk.vtkFloatArray()\n",
    "vtk_vectors.SetNumberOfComponents(3)\n",
    "vtk_vectors.SetNumberOfTuples(3)\n",
    "# vtk_vectors takes a reference of current_vecs\n",
    "vtk_vectors.SetVoidArray(current_vecs, 3*3, 1)\n",
    "\n",
    "# attach the vector field to the mesh\n",
    "mesh.GetPointData().SetVectors(vtk_vectors)"
   ]
  },
  {
   "cell_type": "code",
   "execution_count": 6,
   "id": "db13b1f6",
   "metadata": {},
   "outputs": [
    {
     "data": {
      "application/vnd.jupyter.widget-view+json": {
       "model_id": "e3f0ac69157946e2b1984598de49c1b7",
       "version_major": 2,
       "version_minor": 0
      },
      "text/plain": [
       "interactive(children=(IntSlider(value=0, description='x', max=1), Output()), _dom_classes=('widget-interact',)…"
      ]
     },
     "metadata": {},
     "output_type": "display_data"
    },
    {
     "data": {
      "text/plain": [
       "<function __main__.callback(x)>"
      ]
     },
     "execution_count": 6,
     "metadata": {},
     "output_type": "execute_result"
    }
   ],
   "source": [
    "# allow the user to select the data at different levels\n",
    "from ipywidgets import interact\n",
    "\n",
    "def callback(x):\n",
    "    i = int(x)\n",
    "    # copy the new values\n",
    "    current_vecs[:] = vecs[i,:,:]\n",
    "    print(f'i = {i} {current_vecs}')\n",
    "    vtk_vectors.Modified()\n",
    "\n",
    "interact(callback, x=0)"
   ]
  },
  {
   "cell_type": "code",
   "execution_count": 7,
   "id": "0b81d888",
   "metadata": {},
   "outputs": [
    {
     "data": {
      "application/vnd.jupyter.widget-view+json": {
       "model_id": "c96c574866c7456ea8f70eaa1b58779c",
       "version_major": 2,
       "version_minor": 0
      },
      "text/plain": [
       "Widget(value=\"<iframe src='http://localhost:54428/index.html?ui=P_0x12209aaa0_1&reconnect=auto' style='width: …"
      ]
     },
     "metadata": {},
     "output_type": "display_data"
    }
   ],
   "source": [
    "# visualise the vectors\n",
    "arrow = vtk.vtkArrowSource()\n",
    "glyphs = vtk.vtkGlyph3D()\n",
    "glyphs.SetScaleModeToScaleByVector()\n",
    "glyphs.SetColorModeToColorByVector()\n",
    "glyphs.SetInputData(mesh)\n",
    "glyphs.SetSourceConnection(arrow.GetOutputPort())\n",
    "\n",
    "p = pyvista.Plotter(window_size=(600, 400))\n",
    "p.add_mesh(glyphs)\n",
    "p.show()\n"
   ]
  },
  {
   "cell_type": "code",
   "execution_count": 8,
   "id": "b0caa772",
   "metadata": {},
   "outputs": [
    {
     "data": {
      "application/vnd.jupyter.widget-view+json": {
       "model_id": "3af80aaf9052478b9ee7b6e1b800bd6c",
       "version_major": 2,
       "version_minor": 0
      },
      "text/plain": [
       "Widget(value=\"<iframe src='http://localhost:54428/index.html?ui=P_0x172fb7610_2&reconnect=auto' style='width: …"
      ]
     },
     "metadata": {},
     "output_type": "display_data"
    }
   ],
   "source": [
    "# visualise the vectors\n",
    "pvmesh = pyvista.UnstructuredGrid(mesh)\n",
    "glyphs = pvmesh.glyph()\n",
    "\n",
    "p2 = pyvista.Plotter(window_size=(600, 400))\n",
    "p2.add_mesh(glyphs)\n",
    "p2.show()\n"
   ]
  },
  {
   "cell_type": "code",
   "execution_count": null,
   "id": "d3212058",
   "metadata": {},
   "outputs": [],
   "source": []
  }
 ],
 "metadata": {
  "kernelspec": {
   "display_name": "Python 3 (ipykernel)",
   "language": "python",
   "name": "python3"
  },
  "language_info": {
   "codemirror_mode": {
    "name": "ipython",
    "version": 3
   },
   "file_extension": ".py",
   "mimetype": "text/x-python",
   "name": "python",
   "nbconvert_exporter": "python",
   "pygments_lexer": "ipython3",
   "version": "3.10.9"
  }
 },
 "nbformat": 4,
 "nbformat_minor": 5
}
