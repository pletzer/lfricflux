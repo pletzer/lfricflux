{
 "cells": [
  {
   "cell_type": "code",
   "execution_count": null,
   "id": "3cc67578",
   "metadata": {},
   "outputs": [],
   "source": [
    "import pyvista\n",
    "import lfricflux\n",
    "import numpy\n",
    "import mint"
   ]
  },
  {
   "cell_type": "code",
   "execution_count": null,
   "id": "57e7b5a4",
   "metadata": {},
   "outputs": [],
   "source": [
    "# create a flux instance. The geometry is read form the netcdf Ugrid file\n",
    "lf = lfricflux.LFRicFlux(fileName='../data/gungho/uniform_extrusion/lfric_diag.nc', meshName='Mesh2d',)"
   ]
  },
  {
   "cell_type": "code",
   "execution_count": null,
   "id": "37813f2d",
   "metadata": {},
   "outputs": [],
   "source": [
    "# create an empty vector field object\n",
    "x, y = lf.getEdgeLonLat()\n",
    "vf = lfricflux.VtkVectors(x, y, vector_field_name='vectors', cartesian=True)"
   ]
  },
  {
   "cell_type": "code",
   "execution_count": null,
   "id": "2d1f36ba",
   "metadata": {},
   "outputs": [],
   "source": [
    "# read velocity data\n",
    "u = mint.NcFieldRead(fileName='../data/gungho/uniform_extrusion/lfric_diag.nc', varName='u_in_w2h').data()\n",
    "v = mint.NcFieldRead(fileName='../data/gungho/uniform_extrusion/lfric_diag.nc', varName='v_in_w2h').data()"
   ]
  },
  {
   "cell_type": "code",
   "execution_count": null,
   "id": "431e73e4",
   "metadata": {},
   "outputs": [],
   "source": [
    "# last dimension is number of edges\n",
    "u.shape"
   ]
  },
  {
   "cell_type": "code",
   "execution_count": null,
   "id": "201a96e7",
   "metadata": {},
   "outputs": [],
   "source": [
    "# set the vector field from the time=0, elev=0 data\n",
    "vf.setField(u, v, inds=(0,0))"
   ]
  },
  {
   "cell_type": "code",
   "execution_count": null,
   "id": "a64b97cd",
   "metadata": {},
   "outputs": [],
   "source": [
    "xyz = vf.getPointArray()\n",
    "npoints = xyz.shape[0]"
   ]
  },
  {
   "cell_type": "code",
   "execution_count": null,
   "id": "8038b0b3",
   "metadata": {},
   "outputs": [],
   "source": [
    "# create a pyvista mesh object\n",
    "pvmesh = pyvista.UnstructuredGrid(vf.getMesh())\n",
    "vecs = vf.getFieldArray()\n",
    "pvmesh.point_data['mag'] = numpy.sqrt(vecs[:,0]**2 + vecs[:,1]**2 + vecs[:,2]**2)\n",
    "pvmesh.point_data.keys()"
   ]
  },
  {
   "cell_type": "code",
   "execution_count": null,
   "id": "b680af15",
   "metadata": {},
   "outputs": [],
   "source": [
    "glyphs = pvmesh.glyph(orient=\"vectors\", scale=\"mag\", factor=0.1, geom=pyvista.Arrow())"
   ]
  },
  {
   "cell_type": "code",
   "execution_count": null,
   "id": "55f02c1c",
   "metadata": {},
   "outputs": [],
   "source": [
    "p = pyvista.Plotter()\n",
    "p.add_mesh(pyvista.Sphere(radius=0.95), color=\"grey\", ambient=0.6, opacity=1.0, show_edges=False)\n",
    "p.add_mesh(glyphs)\n",
    "p.show(jupyter_backend='trame') #'panel')"
   ]
  },
  {
   "cell_type": "code",
   "execution_count": null,
   "id": "de735ff5",
   "metadata": {},
   "outputs": [],
   "source": []
  },
  {
   "cell_type": "code",
   "execution_count": null,
   "id": "28474447",
   "metadata": {},
   "outputs": [],
   "source": []
  },
  {
   "cell_type": "code",
   "execution_count": null,
   "id": "b5b32b6b",
   "metadata": {},
   "outputs": [],
   "source": []
  },
  {
   "cell_type": "code",
   "execution_count": null,
   "id": "3f5b208c",
   "metadata": {},
   "outputs": [],
   "source": []
  },
  {
   "cell_type": "code",
   "execution_count": null,
   "id": "5adf9a8e",
   "metadata": {},
   "outputs": [],
   "source": []
  },
  {
   "cell_type": "code",
   "execution_count": null,
   "id": "d96e3333",
   "metadata": {},
   "outputs": [],
   "source": [
    "vecs = vf.getFieldArray()\n",
    "vecs"
   ]
  },
  {
   "cell_type": "code",
   "execution_count": null,
   "id": "56f7ed0f",
   "metadata": {},
   "outputs": [],
   "source": [
    "vdata = pyvista.vector_poly_data(xyz, vecs)"
   ]
  },
  {
   "cell_type": "code",
   "execution_count": null,
   "id": "52967905",
   "metadata": {},
   "outputs": [],
   "source": [
    "vdata.point_data.keys()"
   ]
  },
  {
   "cell_type": "code",
   "execution_count": null,
   "id": "8375079c",
   "metadata": {},
   "outputs": [],
   "source": []
  },
  {
   "cell_type": "code",
   "execution_count": null,
   "id": "c47489c9",
   "metadata": {},
   "outputs": [],
   "source": [
    "glyph = pyvista.Arrow()\n",
    "vdata.glyph(orient='vectors', scale='mag') #, geom=glyph)"
   ]
  },
  {
   "cell_type": "code",
   "execution_count": null,
   "id": "ff29612a",
   "metadata": {},
   "outputs": [],
   "source": [
    "#vdata.point_data['mag'] *= 0.1"
   ]
  },
  {
   "cell_type": "code",
   "execution_count": null,
   "id": "80230785",
   "metadata": {},
   "outputs": [],
   "source": [
    "vdata.plot(jupyter_backend='panel')"
   ]
  },
  {
   "cell_type": "code",
   "execution_count": null,
   "id": "72bf2501",
   "metadata": {},
   "outputs": [],
   "source": [
    "sphere = pyvista.Sphere(radius=0.95)"
   ]
  },
  {
   "cell_type": "code",
   "execution_count": null,
   "id": "59bd8815",
   "metadata": {},
   "outputs": [],
   "source": [
    "p = pyvista.Plotter()\n",
    "p.add_mesh(vdata, lighting=False, scalar_bar_args={'title': \"Vector Magnitude\"})\n",
    "#p.add_mesh(sphere, color=\"grey\", ambient=0.6, opacity=0.5, show_edges=False)\n",
    "p.show(jupyter_backend='panel')"
   ]
  },
  {
   "cell_type": "code",
   "execution_count": null,
   "id": "4a369f43",
   "metadata": {},
   "outputs": [],
   "source": []
  }
 ],
 "metadata": {
  "kernelspec": {
   "display_name": "Python 3 (ipykernel)",
   "language": "python",
   "name": "python3"
  },
  "language_info": {
   "codemirror_mode": {
    "name": "ipython",
    "version": 3
   },
   "file_extension": ".py",
   "mimetype": "text/x-python",
   "name": "python",
   "nbconvert_exporter": "python",
   "pygments_lexer": "ipython3",
   "version": "3.10.9"
  }
 },
 "nbformat": 4,
 "nbformat_minor": 5
}
