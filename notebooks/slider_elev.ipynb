{
 "cells": [
  {
   "cell_type": "code",
   "execution_count": null,
   "id": "955afbe5",
   "metadata": {},
   "outputs": [],
   "source": [
    "import vtk\n",
    "import numpy\n",
    "import pyvista\n",
    "\n",
    "# create a mesh of one triangle\n",
    "points = vtk.vtkPoints()\n",
    "points.InsertNextPoint(0., 0., 0.)\n",
    "points.InsertNextPoint(1., 0., 0.)\n",
    "points.InsertNextPoint(1.,1.,0.)\n",
    "\n",
    "mesh = vtk.vtkUnstructuredGrid()\n",
    "mesh.SetPoints(points)\n",
    "mesh.Allocate(1,1)\n",
    "ptIds = vtk.vtkIdList()\n",
    "ptIds.SetNumberOfIds(3)\n",
    "for i in range(3):\n",
    "    ptIds.SetId(i, i)\n",
    "# one cell\n",
    "mesh.InsertNextCell(vtk.VTK_TRIANGLE, ptIds)"
   ]
  },
  {
   "cell_type": "code",
   "execution_count": null,
   "id": "3987b61a",
   "metadata": {},
   "outputs": [],
   "source": [
    "# create sets of vector data\n",
    "vecs = numpy.empty((2, 3, 3), numpy.float32)\n",
    "vecs[0,...] = [(1,0,0), (0, 1, 0), (-1, -1, 0)]\n",
    "vecs[1,...] = [(-2,0,0), (0, -1, 0), (1, 1, 0)]\n",
    "\n",
    "# have a vector point to any of the slices above\n",
    "current_vecs = numpy.empty((3, 3), numpy.float32)\n",
    "# copy\n",
    "current_vecs[:] = vecs[0,...]\n",
    "\n",
    "vtk_vectors = vtk.vtkFloatArray()\n",
    "vtk_vectors.SetNumberOfComponents(3)\n",
    "vtk_vectors.SetNumberOfTuples(3)\n",
    "vtk_vectors.SetVoidArray(current_vecs, 3*3, 1)\n",
    "mesh.GetPointData().SetVectors(vtk_vectors)"
   ]
  },
  {
   "cell_type": "code",
   "execution_count": null,
   "id": "db13b1f6",
   "metadata": {},
   "outputs": [],
   "source": [
    "# allow the user to select the data at different levels\n",
    "from ipywidgets import interact\n",
    "\n",
    "def callback(x):\n",
    "    i = int(x)\n",
    "    # copy the new values\n",
    "    current_vecs[:] = vecs[i,:,:]\n",
    "    print(f'i = {i} {current_vecs}')\n",
    "    vtk_vectors.Modified()\n",
    "\n",
    "interact(callback, x=0)"
   ]
  },
  {
   "cell_type": "code",
   "execution_count": null,
   "id": "0b81d888",
   "metadata": {},
   "outputs": [],
   "source": [
    "# visualise the vectors\n",
    "arrow = vtk.vtkArrowSource()\n",
    "glyphs = vtk.vtkGlyph3D()\n",
    "glyphs.SetScaleModeToScaleByVector()\n",
    "glyphs.SetColorModeToColorByVector()\n",
    "glyphs.SetInputData(mesh)\n",
    "glyphs.SetSourceConnection(arrow.GetOutputPort())\n",
    "\n",
    "p = pyvista.Plotter(window_size=(600, 400))\n",
    "p.add_mesh(glyphs)\n",
    "p.show()\n"
   ]
  }
 ],
 "metadata": {
  "kernelspec": {
   "display_name": "Python 3 (ipykernel)",
   "language": "python",
   "name": "python3"
  },
  "language_info": {
   "codemirror_mode": {
    "name": "ipython",
    "version": 3
   },
   "file_extension": ".py",
   "mimetype": "text/x-python",
   "name": "python",
   "nbconvert_exporter": "python",
   "pygments_lexer": "ipython3",
   "version": "3.10.9"
  }
 },
 "nbformat": 4,
 "nbformat_minor": 5
}
