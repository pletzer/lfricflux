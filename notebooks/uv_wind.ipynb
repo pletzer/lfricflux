{
 "cells": [
  {
   "cell_type": "code",
   "execution_count": 16,
   "id": "3cc67578",
   "metadata": {},
   "outputs": [],
   "source": [
    "import pyvista\n",
    "import lfricflux\n",
    "import numpy\n",
    "import mint\n",
    "import vtk"
   ]
  },
  {
   "cell_type": "code",
   "execution_count": 17,
   "id": "57e7b5a4",
   "metadata": {},
   "outputs": [],
   "source": [
    "inputFile = '../data/gungho/original/lfric_diag.nc'\n",
    "configFile = '../configs/lfric.cfg'\n",
    "# create a flux instance. The geometry is read form the netcdf Ugrid file\n",
    "lf = lfricflux.LFRicFlux(configFile=configFile, inputFile=inputFile)"
   ]
  },
  {
   "cell_type": "code",
   "execution_count": 18,
   "id": "37813f2d",
   "metadata": {},
   "outputs": [],
   "source": [
    "# create an empty vector field object\n",
    "x, y = lf.getEdgeLonLat()\n",
    "vf = lfricflux.VtkVectors(x, y, vector_field_name='velocity', cartesian=True)"
   ]
  },
  {
   "cell_type": "code",
   "execution_count": 19,
   "id": "2d1f36ba",
   "metadata": {},
   "outputs": [],
   "source": [
    "# read the velocity data\n",
    "u = mint.NcFieldRead(fileName=inputFile, varName='u_in_w2h').data()\n",
    "v = mint.NcFieldRead(fileName=inputFile, varName='v_in_w2h').data()"
   ]
  },
  {
   "cell_type": "code",
   "execution_count": 20,
   "id": "431e73e4",
   "metadata": {},
   "outputs": [
    {
     "data": {
      "text/plain": [
       "(1, 30, 3072)"
      ]
     },
     "execution_count": 20,
     "metadata": {},
     "output_type": "execute_result"
    }
   ],
   "source": [
    "# last dimension is number of edges\n",
    "u.shape"
   ]
  },
  {
   "cell_type": "code",
   "execution_count": 21,
   "id": "201a96e7",
   "metadata": {},
   "outputs": [],
   "source": [
    "# set the vector field\n",
    "vf.setField(u, v)\n",
    "# set time = 0, elev = 0\n",
    "vf.setSlice((0, 0))"
   ]
  },
  {
   "cell_type": "code",
   "execution_count": 22,
   "id": "6e893830",
   "metadata": {},
   "outputs": [],
   "source": [
    "# vector field\n",
    "arrow = vtk.vtkArrowSource()\n",
    "glyphs = vtk.vtkGlyph3D()\n",
    "glyphs.SetScaleModeToScaleByVector()\n",
    "glyphs.SetColorModeToColorByVector()\n",
    "glyphs.SetInputData(vf.getMesh())\n",
    "glyphs.SetSourceConnection(arrow.GetOutputPort())"
   ]
  },
  {
   "cell_type": "code",
   "execution_count": 25,
   "id": "aba0eba9",
   "metadata": {
    "scrolled": true
   },
   "outputs": [
    {
     "data": {
      "application/vnd.jupyter.widget-view+json": {
       "model_id": "0513ea93cb3d422bb7e37ac6c011e831",
       "version_major": 2,
       "version_minor": 0
      },
      "text/plain": [
       "Widget(value=\"<iframe src='http://localhost:55985/index.html?ui=P_0x17fbcdea0_3&reconnect=auto' style='width: …"
      ]
     },
     "metadata": {},
     "output_type": "display_data"
    }
   ],
   "source": [
    "p = pyvista.Plotter(window_size=(900, 600))\n",
    "p.add_mesh(glyphs)\n",
    "p.show()"
   ]
  },
  {
   "cell_type": "code",
   "execution_count": 26,
   "id": "a23bce5b",
   "metadata": {},
   "outputs": [
    {
     "data": {
      "application/vnd.jupyter.widget-view+json": {
       "model_id": "95d141edab7c42fb8c95fbdbbe27aa67",
       "version_major": 2,
       "version_minor": 0
      },
      "text/plain": [
       "interactive(children=(IntSlider(value=0, description='k', max=29), Output()), _dom_classes=('widget-interact',…"
      ]
     },
     "metadata": {},
     "output_type": "display_data"
    },
    {
     "data": {
      "text/plain": [
       "<function __main__.callback(k)>"
      ]
     },
     "execution_count": 26,
     "metadata": {},
     "output_type": "execute_result"
    }
   ],
   "source": [
    "from ipywidgets import interact\n",
    "import ipywidgets as widgets\n",
    "\n",
    "def callback(k):\n",
    "    # copy the new values\n",
    "    vf.setSlice((0, k))\n",
    "    print(f'k = {k}')\n",
    "    vf.vectorField.Modified()\n",
    "\n",
    "interact(callback, k=widgets.IntSlider(min=0, max=u.shape[1] - 1, step=1, value=0))"
   ]
  },
  {
   "cell_type": "code",
   "execution_count": null,
   "id": "a2a204e0",
   "metadata": {},
   "outputs": [],
   "source": []
  }
 ],
 "metadata": {
  "kernelspec": {
   "display_name": "Python 3 (ipykernel)",
   "language": "python",
   "name": "python3"
  },
  "language_info": {
   "codemirror_mode": {
    "name": "ipython",
    "version": 3
   },
   "file_extension": ".py",
   "mimetype": "text/x-python",
   "name": "python",
   "nbconvert_exporter": "python",
   "pygments_lexer": "ipython3",
   "version": "3.10.9"
  }
 },
 "nbformat": 4,
 "nbformat_minor": 5
}
